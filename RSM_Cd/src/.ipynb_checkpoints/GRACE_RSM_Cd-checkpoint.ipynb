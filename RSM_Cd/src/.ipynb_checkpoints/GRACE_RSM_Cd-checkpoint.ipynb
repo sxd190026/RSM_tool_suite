{
 "cells": [
  {
   "cell_type": "code",
   "execution_count": 1,
   "id": "f32f467a-5742-4b1f-85d2-d7956d117ec2",
   "metadata": {},
   "outputs": [],
   "source": [
    "import os\n",
    "import sys\n",
    "import subprocess\n",
    "import pandas as pd\n",
    "import datetime as dt\n",
    "import numpy as np\n",
    "import matplotlib.pyplot as plt\n",
    "import time\n",
    "\n",
    "from ctypes import *\n"
   ]
  },
  {
   "cell_type": "code",
   "execution_count": 2,
   "id": "8f9c80df-b8b5-474a-a219-1f62099371a3",
   "metadata": {},
   "outputs": [],
   "source": [
    "m_o = 16\n",
    "m_n = 14\n",
    "m_o2 = 32\n",
    "m_n2 = 28\n",
    "m_He = 4\n",
    "m_H = 1\n",
    "m_Ar = 40\n",
    "m_p = 1.67 * 10**-27\n",
    "m_surf = 120*m_p ## averaging all the surfaces"
   ]
  },
  {
   "cell_type": "code",
   "execution_count": 3,
   "id": "ad2961fb-8268-4f3a-a6e8-f9f39a83f43e",
   "metadata": {},
   "outputs": [],
   "source": [
    "sat = 'GRACEA'\n",
    "sat_in_filename = 'graceA'\n",
    "start = dt.datetime(2005,8,23,0,0,0)\n",
    "stop = dt.datetime(2005,8,28,0,0,0)\n",
    "no_of_days = int(np.ceil((stop - start)/dt.timedelta(days=1)))\n",
    "m_grace = 432"
   ]
  },
  {
   "cell_type": "code",
   "execution_count": 4,
   "id": "183fbeba-ef49-42c1-84da-37648fb94e5b",
   "metadata": {},
   "outputs": [],
   "source": [
    "filepath = \"C:\\\\Users\\\\soumy\\\\OneDrive - The University of Texas at Dallas\\\\Documents\\\\MURI Project_1\\\\Data\\\\Temp\\\\\"\n",
    "os.chdir(filepath)\n",
    "filename = sat + '_Mehta_' + start.strftime(\"%Y-%m-%d\") +'.csv'\n",
    "GRACE_Data = pd.read_csv(filename)\n",
    "GRACE_Data.index = pd.DatetimeIndex(GRACE_Data['Unnamed: 0'])"
   ]
  },
  {
   "cell_type": "code",
   "execution_count": 5,
   "id": "57eb7889-3d13-4a9f-8a4b-891e9020b5ce",
   "metadata": {},
   "outputs": [],
   "source": [
    "filepath = \"C:\\\\Users\\\\soumy\\\\OneDrive - The University of Texas at Dallas\\\\Documents\\\\MURI Project_1\\\\Data\\\\Temp\\\\\"\n",
    "os.chdir(filepath)\n",
    "\n",
    "filename = 'JB_output_'+ sat + '_' + start.strftime('%Y-%m-%d') +'.csv'\n",
    "Data_JB = pd.read_csv(filename)\n",
    "Data_JB.index = pd.DatetimeIndex(Data_JB['Unnamed: 0'])"
   ]
  },
  {
   "cell_type": "code",
   "execution_count": 6,
   "id": "c1840427-6cb5-4770-a402-f1536be22ed8",
   "metadata": {},
   "outputs": [],
   "source": [
    "mole_frac = pd.DataFrame({'frac_O':[Data_JB['nO'][i]/np.sum(Data_JB.iloc[i,2:8]) for i in range(len(Data_JB))],\n",
    "                         'frac_O2':[Data_JB['nO2'][i]/np.sum(Data_JB.iloc[i,2:8]) for i in range(len(Data_JB))],\n",
    "                          'frac_N2': [Data_JB['nN2'][i]/np.sum(Data_JB.iloc[i,2:8]) for i in range(len(Data_JB))],\n",
    "                          'frac_He': [Data_JB['nHe'][i]/np.sum(Data_JB.iloc[i,2:8]) for i in range(len(Data_JB))],\n",
    "                          'frac_H': [Data_JB['nH'][i]/np.sum(Data_JB.iloc[i,2:8]) for i in range(len(Data_JB))],\n",
    "                          'frac_Ar': [Data_JB['nAr'][i]/np.sum(Data_JB.iloc[i,2:8]) for i in range(len(Data_JB))],\n",
    "                         },index = Data_JB.index)"
   ]
  },
  {
   "cell_type": "code",
   "execution_count": 7,
   "id": "a6789521-938d-4895-8c9c-8730959aab39",
   "metadata": {},
   "outputs": [],
   "source": [
    "filepath = \"C:\\\\Users\\\\soumy\\\\OneDrive - The University of Texas at Dallas\\\\Documents\\\\MURI Project_1\\\\src\\\\TPMC\\\\rsm_tool_suite-master\\\\RSM_Cd\\\\src\\\\\"  \n",
    "os.chdir(filepath)"
   ]
  },
  {
   "cell_type": "code",
   "execution_count": 8,
   "id": "ecece153",
   "metadata": {},
   "outputs": [
    {
     "ename": "NameError",
     "evalue": "name 'CHAMP_Data' is not defined",
     "output_type": "error",
     "traceback": [
      "\u001b[1;31m---------------------------------------------------------------------------\u001b[0m",
      "\u001b[1;31mNameError\u001b[0m                                 Traceback (most recent call last)",
      "\u001b[1;32m~\\AppData\\Local\\Temp/ipykernel_3952/3929998567.py\u001b[0m in \u001b[0;36m<module>\u001b[1;34m\u001b[0m\n\u001b[0;32m     16\u001b[0m     \u001b[0mlines\u001b[0m\u001b[1;33m[\u001b[0m\u001b[1;36m5\u001b[0m\u001b[1;33m]\u001b[0m \u001b[1;33m=\u001b[0m \u001b[0mlines\u001b[0m\u001b[1;33m[\u001b[0m\u001b[1;36m5\u001b[0m\u001b[1;33m]\u001b[0m\u001b[1;33m[\u001b[0m\u001b[1;33m:\u001b[0m\u001b[1;33m-\u001b[0m\u001b[1;36m7\u001b[0m\u001b[1;33m]\u001b[0m \u001b[1;33m+\u001b[0m \u001b[1;34m\"{:.2e}\"\u001b[0m\u001b[1;33m.\u001b[0m\u001b[0mformat\u001b[0m\u001b[1;33m(\u001b[0m\u001b[0mnp\u001b[0m\u001b[1;33m.\u001b[0m\u001b[0msum\u001b[0m\u001b[1;33m(\u001b[0m\u001b[0mData_JB\u001b[0m\u001b[1;33m.\u001b[0m\u001b[0miloc\u001b[0m\u001b[1;33m[\u001b[0m\u001b[0mi\u001b[0m\u001b[1;33m,\u001b[0m\u001b[1;36m2\u001b[0m\u001b[1;33m:\u001b[0m\u001b[1;36m8\u001b[0m\u001b[1;33m]\u001b[0m\u001b[1;33m)\u001b[0m\u001b[1;33m)\u001b[0m \u001b[1;33m+\u001b[0m \u001b[1;34m\"\\n\"\u001b[0m\u001b[1;33m\u001b[0m\u001b[1;33m\u001b[0m\u001b[0m\n\u001b[0;32m     17\u001b[0m \u001b[1;33m\u001b[0m\u001b[0m\n\u001b[1;32m---> 18\u001b[1;33m     \u001b[0mlines\u001b[0m\u001b[1;33m[\u001b[0m\u001b[1;36m6\u001b[0m\u001b[1;33m]\u001b[0m \u001b[1;33m=\u001b[0m \u001b[0mlines\u001b[0m\u001b[1;33m[\u001b[0m\u001b[1;36m6\u001b[0m\u001b[1;33m]\u001b[0m\u001b[1;33m[\u001b[0m\u001b[1;33m:\u001b[0m\u001b[1;33m-\u001b[0m\u001b[1;36m6\u001b[0m\u001b[1;33m]\u001b[0m \u001b[1;33m+\u001b[0m \u001b[1;34m\"{:.3f}\"\u001b[0m\u001b[1;33m.\u001b[0m\u001b[0mformat\u001b[0m\u001b[1;33m(\u001b[0m\u001b[0mCHAMP_Data\u001b[0m\u001b[1;33m.\u001b[0m\u001b[0miloc\u001b[0m\u001b[1;33m[\u001b[0m\u001b[0mi\u001b[0m\u001b[1;33m,\u001b[0m\u001b[1;36m6\u001b[0m\u001b[1;33m]\u001b[0m\u001b[1;33m/\u001b[0m\u001b[1;36m1000\u001b[0m\u001b[1;33m)\u001b[0m \u001b[1;33m+\u001b[0m \u001b[1;34m\"\\n\"\u001b[0m\u001b[1;33m\u001b[0m\u001b[1;33m\u001b[0m\u001b[0m\n\u001b[0m\u001b[0;32m     19\u001b[0m \u001b[1;33m\u001b[0m\u001b[0m\n\u001b[0;32m     20\u001b[0m     \u001b[0mlines\u001b[0m\u001b[1;33m[\u001b[0m\u001b[1;36m7\u001b[0m\u001b[1;33m]\u001b[0m \u001b[1;33m=\u001b[0m \u001b[0mlines\u001b[0m\u001b[1;33m[\u001b[0m\u001b[1;36m7\u001b[0m\u001b[1;33m]\u001b[0m\u001b[1;33m[\u001b[0m\u001b[1;33m:\u001b[0m\u001b[1;33m-\u001b[0m\u001b[1;36m7\u001b[0m\u001b[1;33m]\u001b[0m \u001b[1;33m+\u001b[0m \u001b[1;34m\"{:.1f}\"\u001b[0m\u001b[1;33m.\u001b[0m\u001b[0mformat\u001b[0m\u001b[1;33m(\u001b[0m\u001b[0mCHAMP_Data\u001b[0m\u001b[1;33m.\u001b[0m\u001b[0miloc\u001b[0m\u001b[1;33m[\u001b[0m\u001b[0mi\u001b[0m\u001b[1;33m,\u001b[0m\u001b[1;36m8\u001b[0m\u001b[1;33m]\u001b[0m\u001b[1;33m)\u001b[0m \u001b[1;33m+\u001b[0m \u001b[1;34m\"\\n\"\u001b[0m\u001b[1;33m\u001b[0m\u001b[1;33m\u001b[0m\u001b[0m\n",
      "\u001b[1;31mNameError\u001b[0m: name 'CHAMP_Data' is not defined"
     ]
    }
   ],
   "source": [
    "begin = time.time()\n",
    "for i in range(1000):\n",
    "    urls = open('RSM1.inp', 'r')\n",
    "    urls1 = open('RSM.inp','w')\n",
    "    \n",
    "    lines = urls.readlines()# read all the lines of txt\n",
    "    \n",
    "    li = lines[4]\n",
    "    xsum = 1 - np.sum(round(mole_frac.iloc[i,:],2))\n",
    "    addn = \"{:.2f}\".format(mole_frac['frac_H'][i])+'\\t'+\"{:.2f}\".format(mole_frac['frac_He'][i])+\\\n",
    "    '\\t'+\"{:.2f}\".format(xsum)+'\\t'+\"{:.2f}\".format(mole_frac['frac_N2'][i]) + '\\t'+\\\n",
    "    \"{:.2f}\".format(mole_frac['frac_O'][i])+'\\t'+ \"{:.2f}\".format(mole_frac['frac_O2'][i]) ;\n",
    "    \n",
    "    lines[4] = li[:48] + addn + \"\\n\"\n",
    "\n",
    "    lines[5] = lines[5][:-7] + \"{:.2e}\".format(np.sum(Data_JB.iloc[i,2:8])) + \"\\n\"\n",
    "    \n",
    "    lines[6] = lines[6][:-6] + \"{:.3f}\".format(GRACE_Data.iloc[i,6]/1000) + \"\\n\"\n",
    "    \n",
    "    lines[7] = lines[7][:-7] + \"{:.1f}\".format(GRACE_Data.iloc[i,8]) + \"\\n\"\n",
    "    \n",
    "    # no changes in line 8 & 9 #\n",
    "    \n",
    "    lines[10] = lines[10][:-4] + str(round(np.rad2deg(GRACE_Data.iloc[i,10]),2)) + \"\\n\"\n",
    "    lines[11] = lines[11][:-4] + str(round(np.rad2deg(GRACE_Data.iloc[i,9]),2)) + \"\\n\"\n",
    "    \n",
    "    lines[12] = lines[12][:-10] + \"{:.3e}\".format(m_surf) + \"\\n\"\n",
    "    lines[13] = lines[13][:-6] + \"{:.1f}\".format(m_grace) + \"\\n\"\n",
    "    \n",
    "    lines[14] = lines[14][:-15] + 'GRACE' + \"_RSM.dat\\n\"\n",
    "    lines[15] = lines[15][:-15] + 'GRACE' + \"_area.dat\"\n",
    "    \n",
    "    urls1.writelines(lines)\n",
    "    \n",
    "    urls.close()\n",
    "    urls1.close()\n",
    "    \n",
    "end = time.time()\n",
    "print(end-begin)"
   ]
  },
  {
   "cell_type": "code",
   "execution_count": null,
   "id": "6c7a7e4a-10e6-4600-9812-eacb5f946d51",
   "metadata": {},
   "outputs": [],
   "source": [
    "# def __bootstrap__():\n",
    "#    global __bootstrap__, __loader__, __file__\n",
    "#    import sys, pkg_resources, imp\n",
    "#    __file__ = pkg_resources.resource_filename(__name__,'mylib1.so')\n",
    "#    __loader__ = None; del __bootstrap__, __loader__\n",
    "#    imp.load_dynamic(__name__,__file__)\n",
    "# __bootstrap__()"
   ]
  },
  {
   "cell_type": "code",
   "execution_count": 248,
   "id": "0d52e698-ff5d-4ca6-a660-cb1df8a47922",
   "metadata": {},
   "outputs": [
    {
     "data": {
      "text/plain": [
       "0.019"
      ]
     },
     "execution_count": 248,
     "metadata": {},
     "output_type": "execute_result"
    }
   ],
   "source": [
    "GRACE_Data['Pitch (rad)'].max()"
   ]
  },
  {
   "cell_type": "code",
   "execution_count": null,
   "id": "e8dc648d-50a4-4bfb-bdf9-a65307254a28",
   "metadata": {},
   "outputs": [],
   "source": []
  }
 ],
 "metadata": {
  "kernelspec": {
   "display_name": "Python 3 (ipykernel)",
   "language": "python",
   "name": "python3"
  },
  "language_info": {
   "codemirror_mode": {
    "name": "ipython",
    "version": 3
   },
   "file_extension": ".py",
   "mimetype": "text/x-python",
   "name": "python",
   "nbconvert_exporter": "python",
   "pygments_lexer": "ipython3",
   "version": "3.9.7"
  }
 },
 "nbformat": 4,
 "nbformat_minor": 5
}
