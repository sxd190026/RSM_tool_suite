{
 "cells": [
  {
   "cell_type": "code",
   "execution_count": 1,
   "id": "f32f467a-5742-4b1f-85d2-d7956d117ec2",
   "metadata": {},
   "outputs": [],
   "source": [
    "import os\n",
    "import sys\n",
    "import subprocess\n",
    "import pandas as pd\n",
    "import datetime as dt\n",
    "import numpy as np\n",
    "import matplotlib.pyplot as plt\n",
    "import time\n",
    "from ctypes import *\n",
    "# import multiprocessing\n",
    "%matplotlib widget\n"
   ]
  },
  {
   "cell_type": "code",
   "execution_count": 11,
   "id": "8f9c80df-b8b5-474a-a219-1f62099371a3",
   "metadata": {},
   "outputs": [],
   "source": [
    "m_o = 16\n",
    "m_n = 14\n",
    "m_o2 = 32\n",
    "m_n2 = 28\n",
    "m_He = 4\n",
    "m_H = 1\n",
    "m_Ar = 40\n",
    "m_p = 1.67 * 10**-27\n",
    "m_surf = 120*m_p ## averaging all the surfaces"
   ]
  },
  {
   "cell_type": "code",
   "execution_count": 3,
   "id": "ad2961fb-8268-4f3a-a6e8-f9f39a83f43e",
   "metadata": {},
   "outputs": [],
   "source": [
    "sat = 'CHAMP'\n",
    "sat_in_filename = 'CHAMP'\n",
    "start = dt.datetime(2005,8,23,0,0,0)\n",
    "stop = dt.datetime(2005,8,28,0,0,0)\n",
    "no_of_days = int(np.ceil((stop - start)/dt.timedelta(days=1)))\n",
    "m_champ = 522"
   ]
  },
  {
   "cell_type": "code",
   "execution_count": 4,
   "id": "66d04e97-aa46-4e82-8607-66ddd157144c",
   "metadata": {},
   "outputs": [],
   "source": [
    "filepath = \"C:\\\\Users\\\\soumy\\\\OneDrive - The University of Texas at Dallas\\\\Documents\\\\MURI_Project_1\\\\Data\\\\Temp\\\\\"\n",
    "os.chdir(filepath)\n",
    "filename = sat + '_Mehta_' + start.strftime(\"%Y-%m-%d\") +'.csv'\n",
    "CHAMP_Data = pd.read_csv(filename)\n",
    "CHAMP_Data.index = pd.DatetimeIndex(CHAMP_Data['Unnamed: 0'])"
   ]
  },
  {
   "cell_type": "code",
   "execution_count": 5,
   "id": "183fbeba-ef49-42c1-84da-37648fb94e5b",
   "metadata": {},
   "outputs": [],
   "source": [
    "# # filepath = \"C:\\\\Users\\\\soumy\\\\OneDrive - The University of Texas at Dallas\\\\Documents\\\\MURI Project_1\\\\Data\\\\Temp\\\\\"\n",
    "# filepath = \"/Users/user/OneDrive - The University of Texas at Dallas/Documents/MURI Project_1/Data/Temp/\"\n",
    "\n",
    "# os.chdir(filepath)\n",
    "# filename = sat + '_Mehta_' + start.strftime(\"%Y-%m-%d\") +'.csv'\n",
    "# GRACE_Data = pd.read_csv(filename)\n",
    "# GRACE_Data.index = pd.DatetimeIndex(GRACE_Data['Unnamed: 0'])"
   ]
  },
  {
   "cell_type": "code",
   "execution_count": 6,
   "id": "57eb7889-3d13-4a9f-8a4b-891e9020b5ce",
   "metadata": {},
   "outputs": [],
   "source": [
    "# filepath = '/Users/user/OneDrive - The University of Texas at Dallas/Documents/MURI_Project_1/Data/Temp/'\n",
    "filepath = 'C:\\\\Users\\\\soumy\\\\OneDrive - The University of Texas at Dallas\\\\Documents\\\\MURI_Project_1\\\\Data\\\\Temp\\\\';\n",
    "os.chdir(filepath)\n",
    "filename = sat + '_MSIS_' + str(start.month).zfill(2) + '_' + str(start.year) + '.csv'\n",
    "Data_msis = pd.read_csv(filename)"
   ]
  },
  {
   "cell_type": "code",
   "execution_count": 7,
   "id": "c1840427-6cb5-4770-a402-f1536be22ed8",
   "metadata": {},
   "outputs": [],
   "source": [
    "mole_frac = pd.DataFrame({'frac_O':[Data_msis['nO'][i]/np.sum(Data_msis.iloc[i,2:8]) for i in range(len(Data_msis))],\n",
    "                         'frac_O2':[Data_msis['nO2'][i]/np.sum(Data_msis.iloc[i,2:8]) for i in range(len(Data_msis))],\n",
    "                          'frac_N2': [Data_msis['nN2'][i]/np.sum(Data_msis.iloc[i,2:8]) for i in range(len(Data_msis))],\n",
    "                          'frac_He': [Data_msis['nHe'][i]/np.sum(Data_msis.iloc[i,2:8]) for i in range(len(Data_msis))],\n",
    "                          'frac_H': [Data_msis['nH'][i]/np.sum(Data_msis.iloc[i,2:8]) for i in range(len(Data_msis))],\n",
    "                          'frac_N': [Data_msis['nN'][i]/np.sum(Data_msis.iloc[i,2:8]) for i in range(len(Data_msis))],\n",
    "                         },index = Data_msis.index)"
   ]
  },
  {
   "cell_type": "code",
   "execution_count": 8,
   "id": "a6789521-938d-4895-8c9c-8730959aab39",
   "metadata": {},
   "outputs": [],
   "source": [
    "filepath = \"C:\\\\Users\\\\soumy\\\\OneDrive - The University of Texas at Dallas\\\\Documents\\\\MURI_Project_1\\\\src\\\\TPMC\\\\rsm_tool_suite-master-2\\\\RSM_Cd\\\\src\\\\\" \n",
    "# filepath = \"/Users/user/OneDrive - The University of Texas at Dallas/Documents/MURI Project_1/src/TPMC/rsm_tool_suite-master-1/RSM_Cd/src/\"\n",
    "os.chdir(filepath)"
   ]
  },
  {
   "cell_type": "code",
   "execution_count": null,
   "id": "8ab9b197-5301-4c61-9f39-c4f82a62ab94",
   "metadata": {},
   "outputs": [],
   "source": []
  },
  {
   "cell_type": "code",
   "execution_count": 9,
   "id": "ab38e2ba-c5e3-488e-81de-c0b95277511a",
   "metadata": {},
   "outputs": [],
   "source": [
    "\n",
    "# begin= time.time()\n",
    "# if __name__ == \"__main__\":\n",
    "#     pool = multiprocessing.Pool(processes=4)\n",
    "#     pool.map(sample.func,range(40),chunksize=10)\n",
    "#     pool.close()\n",
    "#     pool.join()\n",
    "#     print('done')"
   ]
  },
  {
   "cell_type": "code",
   "execution_count": null,
   "id": "893c3826-36d8-4ef8-8fad-faaa312f028d",
   "metadata": {},
   "outputs": [],
   "source": []
  },
  {
   "cell_type": "code",
   "execution_count": 12,
   "id": "ecece153",
   "metadata": {},
   "outputs": [
    {
     "ename": "OSError",
     "evalue": "[WinError 193] %1 is not a valid Win32 application",
     "output_type": "error",
     "traceback": [
      "\u001b[1;31m---------------------------------------------------------------------------\u001b[0m",
      "\u001b[1;31mOSError\u001b[0m                                   Traceback (most recent call last)",
      "\u001b[1;32m~\\AppData\\Local\\Temp/ipykernel_11708/2329558748.py\u001b[0m in \u001b[0;36m<module>\u001b[1;34m\u001b[0m\n\u001b[0;32m     46\u001b[0m \u001b[1;33m\u001b[0m\u001b[0m\n\u001b[0;32m     47\u001b[0m     \u001b[0mp1\u001b[0m \u001b[1;33m=\u001b[0m \u001b[0msubprocess\u001b[0m\u001b[1;33m.\u001b[0m\u001b[0mrun\u001b[0m\u001b[1;33m(\u001b[0m\u001b[1;33m[\u001b[0m\u001b[1;34m'gcc'\u001b[0m\u001b[1;33m,\u001b[0m \u001b[1;34m'-lgsl'\u001b[0m\u001b[1;33m,\u001b[0m\u001b[1;34m'-lgslcblas'\u001b[0m\u001b[1;33m,\u001b[0m\u001b[1;34m'-lm'\u001b[0m\u001b[1;33m,\u001b[0m\u001b[1;34m'-w'\u001b[0m\u001b[1;33m,\u001b[0m\u001b[1;34m'RSM.c'\u001b[0m\u001b[1;33m,\u001b[0m\u001b[1;34m'-o'\u001b[0m\u001b[1;33m,\u001b[0m\u001b[1;34m'./a.out'\u001b[0m\u001b[1;33m]\u001b[0m\u001b[1;33m)\u001b[0m\u001b[1;33m\u001b[0m\u001b[1;33m\u001b[0m\u001b[0m\n\u001b[1;32m---> 48\u001b[1;33m     \u001b[0mp2\u001b[0m \u001b[1;33m=\u001b[0m \u001b[0msubprocess\u001b[0m\u001b[1;33m.\u001b[0m\u001b[0mrun\u001b[0m\u001b[1;33m(\u001b[0m\u001b[1;33m[\u001b[0m\u001b[1;34m\"./a.out\"\u001b[0m\u001b[1;33m]\u001b[0m\u001b[1;33m,\u001b[0m\u001b[0mcapture_output\u001b[0m\u001b[1;33m=\u001b[0m\u001b[1;32mTrue\u001b[0m\u001b[1;33m,\u001b[0m\u001b[0mtext\u001b[0m\u001b[1;33m=\u001b[0m\u001b[1;32mTrue\u001b[0m\u001b[1;33m)\u001b[0m\u001b[1;33m\u001b[0m\u001b[1;33m\u001b[0m\u001b[0m\n\u001b[0m\u001b[0;32m     49\u001b[0m \u001b[1;33m\u001b[0m\u001b[0m\n\u001b[0;32m     50\u001b[0m     \u001b[0moutput\u001b[0m \u001b[1;33m=\u001b[0m \u001b[0mp2\u001b[0m\u001b[1;33m.\u001b[0m\u001b[0mstdout\u001b[0m\u001b[1;33m.\u001b[0m\u001b[0msplitlines\u001b[0m\u001b[1;33m(\u001b[0m\u001b[1;33m)\u001b[0m\u001b[1;33m\u001b[0m\u001b[1;33m\u001b[0m\u001b[0m\n",
      "\u001b[1;32m~\\anaconda3\\lib\\subprocess.py\u001b[0m in \u001b[0;36mrun\u001b[1;34m(input, capture_output, timeout, check, *popenargs, **kwargs)\u001b[0m\n\u001b[0;32m    503\u001b[0m         \u001b[0mkwargs\u001b[0m\u001b[1;33m[\u001b[0m\u001b[1;34m'stderr'\u001b[0m\u001b[1;33m]\u001b[0m \u001b[1;33m=\u001b[0m \u001b[0mPIPE\u001b[0m\u001b[1;33m\u001b[0m\u001b[1;33m\u001b[0m\u001b[0m\n\u001b[0;32m    504\u001b[0m \u001b[1;33m\u001b[0m\u001b[0m\n\u001b[1;32m--> 505\u001b[1;33m     \u001b[1;32mwith\u001b[0m \u001b[0mPopen\u001b[0m\u001b[1;33m(\u001b[0m\u001b[1;33m*\u001b[0m\u001b[0mpopenargs\u001b[0m\u001b[1;33m,\u001b[0m \u001b[1;33m**\u001b[0m\u001b[0mkwargs\u001b[0m\u001b[1;33m)\u001b[0m \u001b[1;32mas\u001b[0m \u001b[0mprocess\u001b[0m\u001b[1;33m:\u001b[0m\u001b[1;33m\u001b[0m\u001b[1;33m\u001b[0m\u001b[0m\n\u001b[0m\u001b[0;32m    506\u001b[0m         \u001b[1;32mtry\u001b[0m\u001b[1;33m:\u001b[0m\u001b[1;33m\u001b[0m\u001b[1;33m\u001b[0m\u001b[0m\n\u001b[0;32m    507\u001b[0m             \u001b[0mstdout\u001b[0m\u001b[1;33m,\u001b[0m \u001b[0mstderr\u001b[0m \u001b[1;33m=\u001b[0m \u001b[0mprocess\u001b[0m\u001b[1;33m.\u001b[0m\u001b[0mcommunicate\u001b[0m\u001b[1;33m(\u001b[0m\u001b[0minput\u001b[0m\u001b[1;33m,\u001b[0m \u001b[0mtimeout\u001b[0m\u001b[1;33m=\u001b[0m\u001b[0mtimeout\u001b[0m\u001b[1;33m)\u001b[0m\u001b[1;33m\u001b[0m\u001b[1;33m\u001b[0m\u001b[0m\n",
      "\u001b[1;32m~\\anaconda3\\lib\\subprocess.py\u001b[0m in \u001b[0;36m__init__\u001b[1;34m(self, args, bufsize, executable, stdin, stdout, stderr, preexec_fn, close_fds, shell, cwd, env, universal_newlines, startupinfo, creationflags, restore_signals, start_new_session, pass_fds, user, group, extra_groups, encoding, errors, text, umask)\u001b[0m\n\u001b[0;32m    949\u001b[0m                             encoding=encoding, errors=errors)\n\u001b[0;32m    950\u001b[0m \u001b[1;33m\u001b[0m\u001b[0m\n\u001b[1;32m--> 951\u001b[1;33m             self._execute_child(args, executable, preexec_fn, close_fds,\n\u001b[0m\u001b[0;32m    952\u001b[0m                                 \u001b[0mpass_fds\u001b[0m\u001b[1;33m,\u001b[0m \u001b[0mcwd\u001b[0m\u001b[1;33m,\u001b[0m \u001b[0menv\u001b[0m\u001b[1;33m,\u001b[0m\u001b[1;33m\u001b[0m\u001b[1;33m\u001b[0m\u001b[0m\n\u001b[0;32m    953\u001b[0m                                 \u001b[0mstartupinfo\u001b[0m\u001b[1;33m,\u001b[0m \u001b[0mcreationflags\u001b[0m\u001b[1;33m,\u001b[0m \u001b[0mshell\u001b[0m\u001b[1;33m,\u001b[0m\u001b[1;33m\u001b[0m\u001b[1;33m\u001b[0m\u001b[0m\n",
      "\u001b[1;32m~\\anaconda3\\lib\\subprocess.py\u001b[0m in \u001b[0;36m_execute_child\u001b[1;34m(self, args, executable, preexec_fn, close_fds, pass_fds, cwd, env, startupinfo, creationflags, shell, p2cread, p2cwrite, c2pread, c2pwrite, errread, errwrite, unused_restore_signals, unused_gid, unused_gids, unused_uid, unused_umask, unused_start_new_session)\u001b[0m\n\u001b[0;32m   1418\u001b[0m             \u001b[1;31m# Start the process\u001b[0m\u001b[1;33m\u001b[0m\u001b[1;33m\u001b[0m\u001b[0m\n\u001b[0;32m   1419\u001b[0m             \u001b[1;32mtry\u001b[0m\u001b[1;33m:\u001b[0m\u001b[1;33m\u001b[0m\u001b[1;33m\u001b[0m\u001b[0m\n\u001b[1;32m-> 1420\u001b[1;33m                 hp, ht, pid, tid = _winapi.CreateProcess(executable, args,\n\u001b[0m\u001b[0;32m   1421\u001b[0m                                          \u001b[1;31m# no special security\u001b[0m\u001b[1;33m\u001b[0m\u001b[1;33m\u001b[0m\u001b[0m\n\u001b[0;32m   1422\u001b[0m                                          \u001b[1;32mNone\u001b[0m\u001b[1;33m,\u001b[0m \u001b[1;32mNone\u001b[0m\u001b[1;33m,\u001b[0m\u001b[1;33m\u001b[0m\u001b[1;33m\u001b[0m\u001b[0m\n",
      "\u001b[1;31mOSError\u001b[0m: [WinError 193] %1 is not a valid Win32 application"
     ]
    }
   ],
   "source": [
    "begin = time.time()\n",
    "C_D = []\n",
    "for i in range(3000):\n",
    "    urls = open('RSM1.inp', 'r')\n",
    "    urls1 = open('RSM.inp','w')\n",
    "    \n",
    "    lines = urls.readlines()# read all the lines of txt\n",
    "    \n",
    "    li = lines[4]\n",
    "    frac_O = np.round(mole_frac['frac_O'][i],2); frac_O2 = np.round(mole_frac['frac_O2'][i],2); frac_N = np.round(mole_frac['frac_N'][i],2);\n",
    "    frac_N2 = np.round(mole_frac['frac_N2'][i],2); frac_He = np.round(mole_frac['frac_He'][i],2); frac_H = np.round(mole_frac['frac_H'][i],2);\n",
    "    \n",
    "    xsum = round((frac_O + frac_O2 + frac_N + frac_N2 + frac_H + frac_He)-1,2)\n",
    "    \n",
    "    frac_O = frac_O - xsum\n",
    "    # addn = \"{:.2f}\".format(mole_frac['frac_H'][i])+'\\t'+\"{:.2f}\".format(mole_frac['frac_He'][i])+\\\n",
    "    # '\\t'+\"{:.2f}\".format(mole_frac['frac_N'][i])+'\\t'+\"{:.2f}\".format(mole_frac['frac_N2'][i]) + '\\t'+\\\n",
    "    # \"{:.2f}\".format(frac_O)+'\\t'+ \"{:.2f}\".format(mole_frac['frac_O2'][i]) ;\n",
    "    addn = str(frac_H)+'\\t'+str(frac_He)+\\\n",
    "    '\\t'+str(frac_N)+'\\t'+str(frac_N2) + '\\t'+\\\n",
    "    str(frac_O)+'\\t'+ str(frac_O2) ;\n",
    "\n",
    "    lines[4] = li[:48] + addn + \"\\n\"\n",
    "\n",
    "    lines[5] = lines[5][:-7] + \"{:.2e}\".format(np.sum(Data_msis.iloc[i,2:8])) + \"\\n\"\n",
    "    \n",
    "    lines[6] = lines[6][:-6] + \"{:.3f}\".format(CHAMP_Data.iloc[i,6]/1000) + \"\\n\"\n",
    "    \n",
    "    lines[7] = lines[7][:-7] + \"{:.1f}\".format(CHAMP_Data.iloc[i,8]) + \"\\n\"\n",
    "    \n",
    "    # no changes in line 8 & 9 #\n",
    "    lines[9] = lines[9][:-2] + str(0) + '\\n'\n",
    "    lines[10] = lines[10][:-4] + str(round(np.rad2deg(CHAMP_Data.iloc[i,10]),2)) + \"\\n\"\n",
    "    lines[11] = lines[11][:-4] + str(round(np.rad2deg(CHAMP_Data.iloc[i,9]),2)) + \"\\n\"\n",
    "    \n",
    "    lines[12] = lines[12][:-10] + \"{:.3e}\".format(m_surf) + \"\\n\"\n",
    "    lines[13] = lines[13][:-6] + \"{:.1f}\".format(m_champ) + \"\\n\"\n",
    "    \n",
    "    lines[14] = lines[14][:-15] + 'CHAMP' + \"_RSM.dat\\n\"\n",
    "    lines[15] = lines[15][:-15] + 'CHAMP' + \"_area.dat\"\n",
    "    \n",
    "    urls1.writelines(lines)\n",
    "    \n",
    "    urls.close()\n",
    "    urls1.close()\n",
    "    \n",
    "    p1 = subprocess.run(['gcc', '-lgsl','-lgslcblas','-lm','-w','RSM.c','-o','./a.out'])\n",
    "    p2 = subprocess.run([\"./a.out\"],capture_output=True,text=True)\n",
    "\n",
    "    output = p2.stdout.splitlines()\n",
    "    C_D.append(float(output[-5][-12:]))\n",
    "\n",
    "\n",
    "end = time.time()\n",
    "print(end-begin)"
   ]
  },
  {
   "cell_type": "code",
   "execution_count": null,
   "id": "b2a399ef-5630-43df-827f-23273836236e",
   "metadata": {},
   "outputs": [],
   "source": [
    "drag_coeff = pd.DataFrame({'C_D':C_D},index = CHAMP_Data.index[:3000])\n"
   ]
  },
  {
   "cell_type": "code",
   "execution_count": null,
   "id": "ab1e3c62-bd1d-4538-b79b-8b0737965fd1",
   "metadata": {},
   "outputs": [],
   "source": [
    "plt.figure(figsize = [10,4])\n",
    "\n",
    "plt.plot(drag_coeff['C_D'],label = 'C_D(TPMC)')\n",
    "plt.plot(CHAMP_Data['CD_New (~)'][:3000],label = 'C_D(Mehta)')\n",
    "plt.legend()\n",
    "plt.ylabel('Drag co-efficient ($C_{D}$)')\n"
   ]
  },
  {
   "cell_type": "code",
   "execution_count": null,
   "id": "aba02da9-dbce-4c65-aec6-d171bd8805a8",
   "metadata": {},
   "outputs": [],
   "source": [
    "plt.figure(figsize = [10,4])\n",
    "\n",
    "plt.plot(GRACE_Data.index[:3000],((np.array(drag_coeff['C_D']) - np.array(GRACE_Data['CD_New (~)'][:3000]))/np.array(GRACE_Data['CD_New (~)'][:3000]))*100,label = 'percentage error')\n",
    "\n",
    "plt.legend()"
   ]
  },
  {
   "cell_type": "code",
   "execution_count": null,
   "id": "84742253-525a-4668-8664-d4e1207dea7c",
   "metadata": {},
   "outputs": [],
   "source": [
    "# filepath = \"C:\\\\Users\\\\soumy\\\\OneDrive - The University of Texas at Dallas\\\\Documents\\\\MURI Project_1\\\\Data\\\\Temp\\\\\"\n",
    "filepath = \"/Users/user/OneDrive - The University of Texas at Dallas/Documents/MURI Project_1/Data/Temp/\"\n",
    "\n",
    "os.chdir(filepath)\n",
    "filename = 'CD_GRACE_08_2005.csv'\n",
    "drag_coeff.to_csv(filename)\n"
   ]
  },
  {
   "cell_type": "code",
   "execution_count": null,
   "id": "6c7a7e4a-10e6-4600-9812-eacb5f946d51",
   "metadata": {},
   "outputs": [],
   "source": [
    "# def __bootstrap__():\n",
    "#    global __bootstrap__, __loader__, __file__\n",
    "#    import sys, pkg_resources, imp\n",
    "#    __file__ = pkg_resources.resource_filename(__name__,'mylib1.so')\n",
    "#    __loader__ = None; del __bootstrap__, __loader__\n",
    "#    imp.load_dynamic(__name__,__file__)\n",
    "# __bootstrap__()"
   ]
  },
  {
   "cell_type": "code",
   "execution_count": null,
   "id": "0d52e698-ff5d-4ca6-a660-cb1df8a47922",
   "metadata": {},
   "outputs": [],
   "source": [
    "begin = time.time()\n",
    "# for i in range(10):\n",
    "p1 = subprocess.run(['gcc', '-lgsl','-lgslcblas','-lm','-w','RSM.c','-o','./a.out'])\n",
    "p2 = subprocess.run([\"./a.out\"],capture_output=True,text=True)\n",
    "end = time.time()\n",
    "print(end-begin)"
   ]
  },
  {
   "cell_type": "code",
   "execution_count": null,
   "id": "e8ffd2e7-423a-4580-8733-f94882922db9",
   "metadata": {},
   "outputs": [],
   "source": [
    "for i in range(10):\n",
    "    frac_O = np.round(mole_frac['frac_O'][i],2); frac_O2 = np.round(mole_frac['frac_O2'][i],2); frac_N = np.round(mole_frac['frac_N'][i],2);\n",
    "    frac_N2 = np.round(mole_frac['frac_N2'][i],2); frac_He = np.round(mole_frac['frac_He'][i],2); frac_H = np.round(mole_frac['frac_H'][i],2);\n",
    "    \n",
    "    xsum = round((frac_O + frac_O2 + frac_N + frac_N2 + frac_H + frac_He) - 1,2)\n",
    "    \n",
    "    frac_O = frac_O - xsum\n",
    "    print(frac_O+frac_O2+frac_N+frac_N2+frac_H+frac_He)"
   ]
  },
  {
   "cell_type": "code",
   "execution_count": null,
   "id": "e8dc648d-50a4-4bfb-bdf9-a65307254a28",
   "metadata": {},
   "outputs": [],
   "source": [
    "p1 = subprocess.run(['gcc', 'cfun.c','-o','./a.out'],capture_output=True);\n",
    "subprocess.run([\"./a.out\"],capture_output=True,text = True)"
   ]
  },
  {
   "cell_type": "code",
   "execution_count": null,
   "id": "5df5483a-1942-4f0e-bb5c-1251eaa21be5",
   "metadata": {},
   "outputs": [],
   "source": []
  }
 ],
 "metadata": {
  "kernelspec": {
   "display_name": "Python 3 (ipykernel)",
   "language": "python",
   "name": "python3"
  },
  "language_info": {
   "codemirror_mode": {
    "name": "ipython",
    "version": 3
   },
   "file_extension": ".py",
   "mimetype": "text/x-python",
   "name": "python",
   "nbconvert_exporter": "python",
   "pygments_lexer": "ipython3",
   "version": "3.9.7"
  }
 },
 "nbformat": 4,
 "nbformat_minor": 5
}
